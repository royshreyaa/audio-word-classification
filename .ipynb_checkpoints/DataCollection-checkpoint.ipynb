{
 "cells": [
  {
   "cell_type": "code",
   "execution_count": 1,
   "id": "74c660f3",
   "metadata": {},
   "outputs": [],
   "source": [
    "import pyaudio\n",
    "import wave\n",
    "import os"
   ]
  },
  {
   "cell_type": "code",
   "execution_count": 2,
   "id": "1f5aaaf0",
   "metadata": {},
   "outputs": [],
   "source": [
    "# Set the target folder for saving audio files\n",
    "target_folder = \"C:/AWC_Dataset/audio_files\"\n",
    "\n",
    "# Set the number of audio files to record for each command\n",
    "num_files_per_command = 5\n",
    "\n",
    "# Set the duration of each audio recording in seconds\n",
    "record_duration = 1.2\n",
    "\n",
    "# Set the audio recording settings\n",
    "sample_rate = 44100\n",
    "chunk_size = 1024\n",
    "format = pyaudio.paInt16\n",
    "channels = 1"
   ]
  },
  {
   "cell_type": "code",
   "execution_count": 3,
   "id": "e7595e89",
   "metadata": {},
   "outputs": [],
   "source": [
    "# Define a function to record audio and save it to a file\n",
    "def record_audio(command):\n",
    "    for i in range(num_files_per_command):\n",
    "        # Start the PyAudio stream\n",
    "        audio = pyaudio.PyAudio()\n",
    "        stream = audio.open(format=format, channels=channels,\n",
    "                            rate=sample_rate, input=True,\n",
    "                            frames_per_buffer=chunk_size)\n",
    "        \n",
    "        # Record audio\n",
    "        frames = []\n",
    "        for j in range(int(sample_rate / chunk_size * record_duration)):\n",
    "            data = stream.read(chunk_size)\n",
    "            frames.append(data)\n",
    "        \n",
    "        # Stop the PyAudio stream\n",
    "        stream.stop_stream()\n",
    "        stream.close()\n",
    "        audio.terminate()\n",
    "        \n",
    "        # Save the audio to a file\n",
    "        filename = f\"{command}_{i}.wav\"\n",
    "        file_path = os.path.join(target_folder, filename)\n",
    "        wf = wave.open(file_path, 'wb')\n",
    "        wf.setnchannels(channels)\n",
    "        wf.setsampwidth(audio.get_sample_size(format))\n",
    "        wf.setframerate(sample_rate)\n",
    "        wf.writeframes(b''.join(frames))\n",
    "        wf.close()\n",
    "        print(f\"Saved {filename}\")"
   ]
  },
  {
   "cell_type": "code",
   "execution_count": 4,
   "id": "6c2151bc",
   "metadata": {},
   "outputs": [
    {
     "name": "stdout",
     "output_type": "stream",
     "text": [
      "Recording 5 files for command five\n",
      "Saved five_0.wav\n",
      "Saved five_1.wav\n",
      "Saved five_2.wav\n",
      "Saved five_3.wav\n",
      "Saved five_4.wav\n",
      "Recording 5 files for command grab\n",
      "Saved grab_0.wav\n",
      "Saved grab_1.wav\n",
      "Saved grab_2.wav\n",
      "Saved grab_3.wav\n",
      "Saved grab_4.wav\n",
      "Recording 5 files for command one\n",
      "Saved one_0.wav\n",
      "Saved one_1.wav\n",
      "Saved one_2.wav\n",
      "Saved one_3.wav\n",
      "Saved one_4.wav\n",
      "Recording 5 files for command three\n",
      "Saved three_0.wav\n",
      "Saved three_1.wav\n",
      "Saved three_2.wav\n",
      "Saved three_3.wav\n",
      "Saved three_4.wav\n",
      "Recording 5 files for command release\n",
      "Saved release_0.wav\n",
      "Saved release_1.wav\n",
      "Saved release_2.wav\n",
      "Saved release_3.wav\n",
      "Saved release_4.wav\n",
      "Recording 5 files for command two\n",
      "Saved two_0.wav\n",
      "Saved two_1.wav\n",
      "Saved two_2.wav\n",
      "Saved two_3.wav\n",
      "Saved two_4.wav\n",
      "Recording 5 files for command four\n",
      "Saved four_0.wav\n",
      "Saved four_1.wav\n",
      "Saved four_2.wav\n",
      "Saved four_3.wav\n",
      "Saved four_4.wav\n"
     ]
    }
   ],
   "source": [
    "# Record audio for each command\n",
    "commands = [\"five\", \"grab\", \"one\", \"three\", \"release\", \"two\", \"four\"]\n",
    "for command in commands:\n",
    "    print(f\"Recording {num_files_per_command} files for command {command}\")\n",
    "    record_audio(command)"
   ]
  }
 ],
 "metadata": {
  "kernelspec": {
   "display_name": "Python 3 (ipykernel)",
   "language": "python",
   "name": "python3"
  },
  "language_info": {
   "codemirror_mode": {
    "name": "ipython",
    "version": 3
   },
   "file_extension": ".py",
   "mimetype": "text/x-python",
   "name": "python",
   "nbconvert_exporter": "python",
   "pygments_lexer": "ipython3",
   "version": "3.9.6"
  }
 },
 "nbformat": 4,
 "nbformat_minor": 5
}
