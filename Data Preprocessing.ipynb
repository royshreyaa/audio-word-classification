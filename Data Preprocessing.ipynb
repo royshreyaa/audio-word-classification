{
 "cells": [
  {
   "cell_type": "code",
   "execution_count": 1,
   "id": "334f9ff2",
   "metadata": {},
   "outputs": [],
   "source": [
    "import os\n",
    "import librosa\n",
    "import numpy as np\n",
    "import soundfile as sf"
   ]
  },
  {
   "cell_type": "code",
   "execution_count": 2,
   "id": "53305386",
   "metadata": {},
   "outputs": [],
   "source": [
    "audio_folder = 'C:/AWC_Dataset/audio_files/'\n",
    "output_folder = 'C:/AWC_Dataset/audio_files_preprocessed/'"
   ]
  },
  {
   "cell_type": "code",
   "execution_count": 3,
   "id": "585ae87d",
   "metadata": {},
   "outputs": [],
   "source": [
    "sampling_rate = 44100\n",
    "frame_size = 0.02\n",
    "frame_stride = 0.01"
   ]
  },
  {
   "cell_type": "code",
   "execution_count": 4,
   "id": "9b627754",
   "metadata": {},
   "outputs": [],
   "source": [
    "# Preprocessing steps\n",
    "for command in ['one', 'two', 'three', 'four', 'five', 'grab', 'release']:\n",
    "    command_folder = os.path.join(audio_folder, command)\n",
    "    output_command_folder = os.path.join(output_folder, command)\n",
    "    os.makedirs(output_command_folder, exist_ok=True)\n",
    "\n",
    "    for filename in os.listdir(command_folder):\n",
    "        if filename.endswith('.wav'):\n",
    "            file_path = os.path.join(command_folder, filename)\n",
    "            output_file_path = os.path.join(output_command_folder, filename)\n",
    "            audio, _ = librosa.load(file_path, sr=sampling_rate)\n",
    "\n",
    "            pre_emphasis = 0.97\n",
    "            audio = np.append(audio[0], audio[1:] - pre_emphasis * audio[:-1])\n",
    "\n",
    "            frame_length = int(frame_size * sampling_rate)\n",
    "            frame_step = int(frame_stride * sampling_rate)\n",
    "            frames = librosa.util.frame(audio, frame_length=frame_length, hop_length=frame_step).T\n",
    "\n",
    "            window = np.hamming(frame_length)\n",
    "            frames = frames * window\n",
    "\n",
    "            sf.write(output_file_path, frames.flatten(), sampling_rate)"
   ]
  }
 ],
 "metadata": {
  "kernelspec": {
   "display_name": "Python 3 (ipykernel)",
   "language": "python",
   "name": "python3"
  },
  "language_info": {
   "codemirror_mode": {
    "name": "ipython",
    "version": 3
   },
   "file_extension": ".py",
   "mimetype": "text/x-python",
   "name": "python",
   "nbconvert_exporter": "python",
   "pygments_lexer": "ipython3",
   "version": "3.9.6"
  }
 },
 "nbformat": 4,
 "nbformat_minor": 5
}
